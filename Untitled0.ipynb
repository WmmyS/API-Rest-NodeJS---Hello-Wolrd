{
  "nbformat": 4,
  "nbformat_minor": 0,
  "metadata": {
    "colab": {
      "name": "Untitled0.ipynb",
      "provenance": [],
      "authorship_tag": "ABX9TyOj8Etj89KT92NfxR+SXWGN",
      "include_colab_link": true
    },
    "kernelspec": {
      "name": "python3",
      "display_name": "Python 3"
    }
  },
  "cells": [
    {
      "cell_type": "markdown",
      "metadata": {
        "id": "view-in-github",
        "colab_type": "text"
      },
      "source": [
        "<a href=\"https://colab.research.google.com/github/WmmyS/API-Rest-NodeJS---Hello-Wolrd/blob/master/Untitled0.ipynb\" target=\"_parent\"><img src=\"https://colab.research.google.com/assets/colab-badge.svg\" alt=\"Open In Colab\"/></a>"
      ]
    },
    {
      "cell_type": "markdown",
      "metadata": {
        "id": "wAif4YqOZSPF"
      },
      "source": [
        "Busca em Largura em Python"
      ]
    },
    {
      "cell_type": "code",
      "metadata": {
        "id": "ircA30_XZJJF"
      },
      "source": [
        "#Importando a biblioteca com o dicionário\r\n",
        "from collections import defaultdict"
      ],
      "execution_count": null,
      "outputs": []
    },
    {
      "cell_type": "code",
      "metadata": {
        "id": "FmgjG5D3Zs7O"
      },
      "source": [
        "#Criando uma classe para manipulação do grafo\r\n",
        "class Grafo:\r\n",
        "  #Construtor\r\n",
        "  def_init_(self):\r\n",
        "    self.graph = defaultdict(list)\r\n",
        "  #Função para adicionar nós no grafo\r\n",
        "  def adicionaVertice(self, u, v):\r\n",
        "    self.graph[u].append(v)\r\n",
        "  #Busca em largura\r\n",
        "  def BL(self, s):\r\n",
        "    #Lista dos nós visitados\r\n",
        "    visitado = [False]*(max(self.graph)+1)\r\n",
        "    #Controlad fila dos nós na borda (que serão expendidos)\r\n",
        "    fila = []\r\n",
        "    fila.append(s)\r\n",
        "    visitados[s] = True\r\n",
        "    #Varre os nós na fila e vai expandindo\r\n",
        "    while fila:\r\n",
        "      s = fila.pop(0)\r\n",
        "      print(s, end=\" \")\r\n",
        "      #Procura os visinhos de S\r\n",
        "      for i in self.graph(s):\r\n",
        "        #Encontra visinho não expandido/visitado\r\n",
        "        if visitado[i] == False:\r\n",
        "          #Adiciona na fila da borda\r\n",
        "          fila.append(i)\r\n",
        "          #Marca o nó como visitado\r\n",
        "          visitados[i] = True"
      ],
      "execution_count": null,
      "outputs": []
    }
  ]
}